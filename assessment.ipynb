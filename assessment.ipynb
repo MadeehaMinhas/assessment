{
  "nbformat": 4,
  "nbformat_minor": 0,
  "metadata": {
    "colab": {
      "provenance": []
    },
    "kernelspec": {
      "name": "python3",
      "display_name": "Python 3"
    },
    "language_info": {
      "name": "python"
    }
  },
  "cells": [
    {
      "cell_type": "code",
      "execution_count": 5,
      "metadata": {
        "colab": {
          "base_uri": "https://localhost:8080/"
        },
        "id": "6KBzeNUb59lQ",
        "outputId": "2c955f9b-4992-4b47-c3c1-e54f50ae1db7"
      },
      "outputs": [
        {
          "output_type": "stream",
          "name": "stdout",
          "text": [
            "{'formats': [{'formatName': 'T20', 'formatDayType': 'Half day match', 'regions': [{'id': 666, 'name': 'north', 'isInternational': False, 'matches': [{'id': 6038, 'startTime': 1629944520, 'team1': 'T1', 'team2': 'T2', 'venue': 'V1', 'streaming': {'liveStream': {'provider': 'north-sky', 'channel': '001'}}, 'results': {'winner': 'T2', 'points': 2, 'resultsWithheld': False}, 'httpLink': 'cric/t20/north/t1vst2/v1/6038', 'isInternational': False}, {'id': 6039, 'startTime': 1629944520, 'team1': 'T2', 'team2': 'T3', 'venue': 'V2', 'streaming': {'liveStream': {'provider': 'north-sky', 'channel': '002'}}, 'results': {'winner': 'T2', 'points': 2, 'resultsWithheld': False}, 'httpLink': 'cric/t20/north/t2vst3/v2/6039', 'isInternational': False}, {'id': 6040, 'startTime': 1629944520, 'team1': 'T3', 'team2': 'T4', 'venue': 'V3', 'streaming': {'liveStream': {'provider': 'north-sky', 'channel': '003'}}, 'results': {'winner': 'T4', 'points': 2, 'resultsWithheld': False}, 'httpLink': 'cric/t20/north/t3vst4/v3/6040', 'isInternational': False}, {'id': 6041, 'startTime': 1629944520, 'team1': 'T4', 'team2': 'T1', 'venue': 'V4', 'streaming': {'liveStream': {'provider': 'north-sky', 'channel': '004'}}, 'results': {'winner': '', 'points': 0, 'resultsWithheld': True}, 'httpLink': 'cric/t20/north/t4vst1/v4/6041', 'isInternational': False}]}, {'id': 777, 'name': 'south', 'isInternational': False, 'streamingAvailable': False, 'matches': [{'id': 7038, 'startTime': 1629944520, 'team1': 'T5', 'team2': 'T6', 'venue': 'V5', 'streaming': {'liveStream': {'provider': 'south-sky', 'channel': '101'}}, 'results': {'winner': 'T6', 'points': 2, 'resultsWithheld': False}, 'httpLink': 'cric/t20/south/t5vst6/v5/7038', 'isInternational': False}, {'id': 7039, 'startTime': 1629944520, 'team1': 'T6', 'team2': 'T7', 'venue': 'V6', 'streaming': {'liveStream': {'provider': 'south-sky', 'channel': '102'}}, 'results': {'winner': '', 'points': 0, 'resultsWithheld': True}, 'httpLink': 'cric/t20/south/t6vst7/v6/7039', 'isInternational': False}, {'id': 7040, 'startTime': 1629944520, 'team1': 'T7', 'team2': 'T8', 'venue': 'V7', 'streaming': {'liveStream': {'provider': 'south-sky', 'channel': '103'}}, 'results': {'winner': 'T8', 'points': 2, 'resultsWithheld': False}, 'httpLink': 'cric/t20/south/t7vst8/v7/7040', 'isInternational': False}, {'id': 7041, 'startTime': 1629944520, 'team1': 'T8', 'team2': 'T5', 'venue': 'V8', 'streaming': {'liveStream': {'provider': 'south-sky', 'channel': '104'}}, 'results': {'winner': 'T8', 'points': 2, 'resultsWithheld': False}, 'httpLink': 'cric/t20/south/t8vst5/v8/7041', 'isInternational': False}]}, {'id': 888, 'name': 'central', 'isInternational': False, 'streamingAvailable': False, 'matches': [{'id': 8038, 'startTime': 1629944520, 'team1': 'T10', 'team2': 'T11', 'venue': 'V10', 'streaming': {'liveStream': {'provider': 'central-sky', 'channel': '201'}}, 'results': {'winner': 'T10', 'points': 2, 'resultsWithheld': False}, 'httpLink': 'cric/t20/central/t10vst11/v10/8038', 'isInternational': False}, {'id': 8039, 'startTime': 1629944520, 'team1': 'T11', 'team2': 'T12', 'venue': 'V11', 'streaming': {'liveStream': {'provider': 'central-sky', 'channel': '202'}}, 'results': {'winner': 'T12', 'points': 2, 'resultsWithheld': False}, 'httpLink': 'cric/t20/central/t11vst12/v11/8039', 'isInternational': False}, {'id': 8040, 'startTime': 1629944520, 'team1': 'T12', 'team2': 'T13', 'venue': 'V12', 'streaming': {'liveStream': {'provider': 'central-sky', 'channel': '203'}}, 'results': {'winner': 'T12', 'points': 2, 'resultsWithheld': False}, 'httpLink': 'cric/t20/central/t12vst13/v12/8040', 'isInternational': False}, {'id': 8041, 'startTime': 1629944520, 'team1': 'T13', 'team2': 'T10', 'venue': 'V13', 'streaming': {'liveStream': {'provider': 'central-sky', 'channel': '204'}}, 'results': {'winner': 'T10', 'points': 2, 'resultsWithheld': False}, 'httpLink': 'cric/t20/central/t13vst10/v13/8041', 'isInternational': False}]}]}, {'formatName': 'ODI', 'formatDayType': 'One day match', 'regions': [{'id': 999, 'name': 'NewZealand', 'isInternational': True, 'matches': [{'id': 16038, 'startTime': 1629944520, 'team1': 'T1', 'team2': 'T2', 'venue': 'NZ-V1', 'streaming': {'liveStream': {'provider': 'nz-ez', 'channel': '001'}}, 'results': {'winner': 'T2', 'points': 4, 'resultsWithheld': False}, 'httpLink': 'cric/odi/nz/t1vst2/v1/16038', 'isInternational': True}, {'id': 16039, 'startTime': 1629944520, 'team1': 'T2', 'team2': 'T3', 'venue': 'NZ-V2', 'streaming': {'liveStream': {'provider': 'nz-ez', 'channel': '002'}}, 'results': {'winner': 'T2', 'points': 4, 'resultsWithheld': False}, 'httpLink': 'cric/odi/nz/t2vst3/v2/16039', 'isInternational': True}, {'id': 16040, 'startTime': 1629944520, 'team1': 'T3', 'team2': 'T4', 'venue': 'NZ-V3', 'streaming': {'liveStream': {'provider': 'nz-ez', 'channel': '003'}}, 'results': {'winner': 'T4', 'points': 4, 'resultsWithheld': False}, 'httpLink': 'cric/odi/nz/t3vst4/v3/16040', 'isInternational': True}, {'id': 16041, 'startTime': 1629944520, 'team1': 'T4', 'team2': 'T1', 'venue': 'NZ-V4', 'streaming': {'liveStream': {'provider': 'nz-ez', 'channel': '004'}}, 'results': {'winner': 'T1', 'points': 4, 'resultsWithheld': False}, 'httpLink': 'cric/odi/nz/t4vst1/v4/16041', 'isInternational': True}]}, {'id': 777, 'name': 'south', 'isInternational': False, 'streamingAvailable': False, 'matches': [{'id': 17038, 'startTime': 1629944520, 'team1': 'T5', 'team2': 'T6', 'venue': 'V5', 'streaming': {'liveStream': {'provider': 'south-sky', 'channel': '101'}}, 'results': {'winner': 'T5', 'points': 4, 'resultsWithheld': False}, 'httpLink': 'cric/t20/south/t5vst6/v5/17038', 'isInternational': False}, {'id': 17039, 'startTime': 1629944520, 'team1': 'T6', 'team2': 'T7', 'venue': 'V6', 'streaming': {'liveStream': {'provider': 'south-sky', 'channel': '102'}}, 'results': {'winner': 'T6', 'points': 4, 'resultsWithheld': False}, 'httpLink': 'cric/t20/south/t6vst7/v6/17039', 'isInternational': False}, {'id': 17040, 'startTime': 1629944520, 'team1': 'T7', 'team2': 'T8', 'venue': 'V7', 'streaming': {'liveStream': {'provider': 'south-sky', 'channel': '103'}}, 'results': {'winner': '', 'points': 0, 'resultsWithheld': True}, 'httpLink': 'cric/t20/south/t7vst8/v7/17040', 'isInternational': False}, {'id': 17041, 'startTime': 1629944520, 'team1': 'T8', 'team2': 'T5', 'venue': 'V8', 'streaming': {'liveStream': {'provider': 'south-sky', 'channel': '104'}}, 'results': {'winner': 'T8', 'points': 4, 'resultsWithheld': False}, 'httpLink': 'cric/t20/south/t8vst5/v8/17041', 'isInternational': False}]}, {'id': 888, 'name': 'central', 'isInternational': False, 'matches': [{'id': 18038, 'startTime': 1629944520, 'team1': 'T10', 'team2': 'T11', 'venue': 'V10', 'streaming': {'liveStream': {'provider': 'central-sky', 'channel': '201'}}, 'results': {'winner': 'T10', 'points': 4, 'resultsWithheld': False}, 'streamingAvailable': False, 'availableStreamingType': None, 'httpLink': 'cric/t20/central/t10vst11/v10/18038', 'isInternational': False}, {'id': 18039, 'startTime': 1629944520, 'team1': 'T11', 'team2': 'T12', 'venue': 'V11', 'streaming': {'liveStream': {'provider': 'central-sky', 'channel': '202'}}, 'results': {'winner': 'T12', 'points': 4, 'resultsWithheld': False}, 'streamingAvailable': False, 'availableStreamingType': None, 'httpLink': 'cric/t20/central/t11vst12/v11/18039', 'isInternational': False}, {'id': 18040, 'startTime': 1629944520, 'team1': 'T12', 'team2': 'T13', 'venue': 'V12', 'streaming': {'liveStream': {'provider': 'central-sky', 'channel': '203'}}, 'results': {'winner': 'T12', 'points': 4, 'resultsWithheld': False}, 'streamingAvailable': False, 'availableStreamingType': None, 'httpLink': 'cric/t20/central/t12vst13/v12/18040', 'isInternational': False}, {'id': 18041, 'startTime': 1629944520, 'team1': 'T13', 'team2': 'T10', 'venue': 'V13', 'streaming': {'liveStream': {'provider': 'central-sky', 'channel': '204'}}, 'results': {'winner': 'T10', 'points': 4, 'resultsWithheld': False}, 'streamingAvailable': False, 'availableStreamingType': None, 'httpLink': 'cric/t20/central/t13vst10/v13/18041', 'isInternational': False}]}]}]}\n"
          ]
        }
      ],
      "source": [
        "import json\n",
        "f = open('py_challange_input.json',)\n",
        "data = json.load(f)\n",
        "for i in data['Cricket']:\n",
        "  print(i)"
      ]
    },
    {
      "cell_type": "code",
      "source": [
        "actual=data['Cricket']\n",
        "type(actual)\n",
        "p=actual[0]\n"
      ],
      "metadata": {
        "id": "KYrgsnXQ6bPJ"
      },
      "execution_count": 19,
      "outputs": []
    },
    {
      "cell_type": "code",
      "source": [
        "p=p['formats']\n"
      ],
      "metadata": {
        "colab": {
          "base_uri": "https://localhost:8080/"
        },
        "id": "IMTu4MAG8cT4",
        "outputId": "c2ff44ed-84a6-4c1a-8117-eb16ac137fc2"
      },
      "execution_count": 20,
      "outputs": [
        {
          "output_type": "execute_result",
          "data": {
            "text/plain": [
              "list"
            ]
          },
          "metadata": {},
          "execution_count": 20
        }
      ]
    },
    {
      "cell_type": "code",
      "source": [
        "len(p[0])"
      ],
      "metadata": {
        "colab": {
          "base_uri": "https://localhost:8080/"
        },
        "id": "VKt7afo08pvj",
        "outputId": "20d84bc3-c182-4c13-b7f4-a071be713a00"
      },
      "execution_count": 24,
      "outputs": [
        {
          "output_type": "execute_result",
          "data": {
            "text/plain": [
              "3"
            ]
          },
          "metadata": {},
          "execution_count": 24
        }
      ]
    },
    {
      "cell_type": "code",
      "source": [
        "len(p[1])"
      ],
      "metadata": {
        "colab": {
          "base_uri": "https://localhost:8080/"
        },
        "id": "fh7Tc0JW9jhs",
        "outputId": "c6749ef1-3a7e-4ba7-ce03-7163af52a718"
      },
      "execution_count": 25,
      "outputs": [
        {
          "output_type": "execute_result",
          "data": {
            "text/plain": [
              "3"
            ]
          },
          "metadata": {},
          "execution_count": 25
        }
      ]
    },
    {
      "cell_type": "code",
      "source": [
        "len(p[1]['regions'][0])\n",
        "#4*3*2"
      ],
      "metadata": {
        "colab": {
          "base_uri": "https://localhost:8080/"
        },
        "id": "IqGOwzSB-6Kc",
        "outputId": "27772314-f7ee-4902-eac5-df883a098da7"
      },
      "execution_count": 33,
      "outputs": [
        {
          "output_type": "execute_result",
          "data": {
            "text/plain": [
              "4"
            ]
          },
          "metadata": {},
          "execution_count": 33
        }
      ]
    },
    {
      "cell_type": "code",
      "source": [
        "final=[]\n",
        "final.append(p[0]['regions'][0])\n",
        "final.append(p[0]['regions'][1])\n",
        "final.append(p[0]['regions'][2])\n",
        "final.append(p[1]['regions'][0])\n",
        "final.append(p[1]['regions'][1])\n",
        "final.append(p[1]['regions'][2])\n"
      ],
      "metadata": {
        "id": "z_0r7wPj9xez"
      },
      "execution_count": 68,
      "outputs": []
    },
    {
      "cell_type": "code",
      "source": [
        "#How many international matches took place?\n",
        "max=0\n",
        "count=0\n",
        "for i in range(0,6):\n",
        "  for j in range(len(final[i])):\n",
        "    for item,val in final[j].items():\n",
        "      if item=='id':\n",
        "        \n",
        "        count+=1\n",
        "print(count)\n"
      ],
      "metadata": {
        "colab": {
          "base_uri": "https://localhost:8080/"
        },
        "id": "pvdjyRcNBbP7",
        "outputId": "bef0bb40-2940-45d5-f277-40970b4c8d47"
      },
      "execution_count": 101,
      "outputs": [
        {
          "output_type": "stream",
          "name": "stdout",
          "text": [
            "27\n"
          ]
        }
      ]
    },
    {
      "cell_type": "code",
      "source": [
        "#What are the percentage of matches played in north, south and central regions in Australia?\n",
        "n=0\n",
        "s=0\n",
        "c=0\n",
        "for i in range(0,6):\n",
        "  for j in range(len(final[i])):\n",
        "    if final[j]['name']=='north':\n",
        "      n=n+1\n",
        "    if final[j]['name']=='south':\n",
        "      s=s+1\n",
        "    if final[j]['name']=='central':\n",
        "      c=c+1\n",
        "\n",
        "print('north:',n/count)\n",
        "print('south:',s/count)\n",
        "print('central:',c/count)"
      ],
      "metadata": {
        "colab": {
          "base_uri": "https://localhost:8080/"
        },
        "id": "tYxdvmM9JVAQ",
        "outputId": "2d550803-8111-49d4-e2fb-56d863edbfda"
      },
      "execution_count": 109,
      "outputs": [
        {
          "output_type": "stream",
          "name": "stdout",
          "text": [
            "north: 0.2222222222222222\n",
            "south: 0.3333333333333333\n",
            "central: 0.2222222222222222\n"
          ]
        }
      ]
    },
    {
      "cell_type": "code",
      "source": [
        "#Which team has scored the most points overall?\n",
        "score={}\n",
        "for i in range(0,6):\n",
        "  for j in range(len(final[i])):\n",
        "    for item in final[j]['matches']:\n",
        "      score[item['results']['winner']]=item['results']['points']"
      ],
      "metadata": {
        "id": "x4zszgzTMmSB"
      },
      "execution_count": 125,
      "outputs": []
    },
    {
      "cell_type": "code",
      "source": [
        "max = 0\n",
        "for k,v in score.items():\n",
        "    if v > max:\n",
        "        max = i\n",
        "        mk=k\n",
        "print(mk)\n",
        "    "
      ],
      "metadata": {
        "colab": {
          "base_uri": "https://localhost:8080/"
        },
        "id": "1fsYDtapNj4V",
        "outputId": "391e0762-463e-46c5-9622-d4cfd78081b6"
      },
      "execution_count": 127,
      "outputs": [
        {
          "output_type": "stream",
          "name": "stdout",
          "text": [
            "T2\n"
          ]
        }
      ]
    },
    {
      "cell_type": "markdown",
      "source": [],
      "metadata": {
        "id": "8824-TaYHwye"
      }
    }
  ]
}